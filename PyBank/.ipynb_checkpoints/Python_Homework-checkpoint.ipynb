{
 "cells": [
  {
   "cell_type": "code",
   "execution_count": 31,
   "metadata": {},
   "outputs": [
    {
     "ename": "AttributeError",
     "evalue": "'_io.TextIOWrapper' object has no attribute 'csv'",
     "output_type": "error",
     "traceback": [
      "\u001b[0;31m---------------------------------------------------------------------------\u001b[0m",
      "\u001b[0;31mAttributeError\u001b[0m                            Traceback (most recent call last)",
      "\u001b[0;32m<ipython-input-31-578955f5c9ee>\u001b[0m in \u001b[0;36m<module>\u001b[0;34m\u001b[0m\n\u001b[1;32m     10\u001b[0m \u001b[0;34m\u001b[0m\u001b[0m\n\u001b[1;32m     11\u001b[0m \u001b[0;31m#reading csv\u001b[0m\u001b[0;34m\u001b[0m\u001b[0;34m\u001b[0m\u001b[0;34m\u001b[0m\u001b[0m\n\u001b[0;32m---> 12\u001b[0;31m \u001b[0;32mwith\u001b[0m \u001b[0mopen\u001b[0m\u001b[0;34m(\u001b[0m\u001b[0mbudget_data\u001b[0m\u001b[0;34m.\u001b[0m\u001b[0mcsv\u001b[0m\u001b[0;34m,\u001b[0m\u001b[0mnewline\u001b[0m\u001b[0;34m=\u001b[0m\u001b[0;34m''\u001b[0m\u001b[0;34m)\u001b[0m \u001b[0;32mas\u001b[0m \u001b[0mcsvfile\u001b[0m\u001b[0;34m:\u001b[0m\u001b[0;34m\u001b[0m\u001b[0;34m\u001b[0m\u001b[0m\n\u001b[0m\u001b[1;32m     13\u001b[0m     \u001b[0mcsvreader\u001b[0m \u001b[0;34m=\u001b[0m \u001b[0mcsv\u001b[0m\u001b[0;34m.\u001b[0m\u001b[0mreader\u001b[0m\u001b[0;34m(\u001b[0m\u001b[0mcsvfile\u001b[0m\u001b[0;34m,\u001b[0m \u001b[0mdelimiter\u001b[0m\u001b[0;34m=\u001b[0m\u001b[0;34m','\u001b[0m\u001b[0;34m)\u001b[0m\u001b[0;34m\u001b[0m\u001b[0;34m\u001b[0m\u001b[0m\n\u001b[1;32m     14\u001b[0m     \u001b[0mnext\u001b[0m\u001b[0;34m(\u001b[0m\u001b[0mcsvreader\u001b[0m\u001b[0;34m,\u001b[0m \u001b[0;32mNone\u001b[0m\u001b[0;34m)\u001b[0m\u001b[0;34m\u001b[0m\u001b[0;34m\u001b[0m\u001b[0m\n",
      "\u001b[0;31mAttributeError\u001b[0m: '_io.TextIOWrapper' object has no attribute 'csv'"
     ]
    }
   ],
   "source": [
    "#Dependencies\n",
    "import os\n",
    "import csv\n",
    "\n",
    "#variables / initial states\n",
    "date = []\n",
    "money = []\n",
    "\n",
    "sum_total = 0\n",
    "\n",
    "#reading csv\n",
    "with open(budget_data.csv, newline=\"\") as csvfile:\n",
    "    csvreader = csv.reader(csvfile, delimiter=',')\n",
    "    next(csvreader, None)\n",
    "#for loop through data, appends lists, and increases counters\n",
    "    for row in csvreader:\n",
    "        date.append(row[0])\n",
    "        money.append(int(row[1]))\n",
    "        sum_total += float(row[1])\n",
    "        #print(row)\n",
    "\n",
    "#total months\n",
    "months = len(date)\n",
    "\n",
    "#loops through money indices and compares to find greates increase and decrease \n",
    "increase=money[0]\n",
    "decrease=money[0]\n",
    "\n",
    "for i in range(len(money)):\n",
    "    if money[i] >= increase:\n",
    "        increase = money[i]\n",
    "        increase_month = date[i]\n",
    "    elif money[i] <= decrease:\n",
    "        decrease = money[i]\n",
    "        decrease_month = date[i]\n",
    "    else:\n",
    "        print('Increase/Decrease Error')\n",
    "        \n",
    "#Average Profit/Loss Change\n",
    "avg_money = round(sum_total/months, 2)\n",
    "\n",
    "#Output file and print statments\n",
    "with open('output_financial.txt',\"w\",newline = '') as textfile:\n",
    "    print(\"Financial Analysis\", file = textfile)\n",
    "    print(\"-----------------------------------\", file = textfile)\n",
    "    print(f'Total Months: {months}', file = textfile)\n",
    "    print(f'Total Revenue: ${sum_total}',file = textfile)\n",
    "    print(f'Average Profit/Loss Change: ${avg_money}',file = textfile)\n",
    "    print(f'Greatest Increase Profit/Loss: {increase_month}(${increase})',file = textfile)\n",
    "    print(f'Greatest Decrease Profit/Loss: {decrease_month}(${decrease})',file = textfile)\n",
    "    print(\"-----------------------------------\", file = textfile)\n",
    "\n",
    "with open('output_financial.txt', newline = '') as csvfile:\n",
    "    csvreader = csv.reader(csvfile, delimiter = ',')\n",
    "    for row in csvreader:\n",
    "        print(row)\n",
    "   "
   ]
  },
  {
   "cell_type": "code",
   "execution_count": null,
   "metadata": {},
   "outputs": [],
   "source": []
  },
  {
   "cell_type": "code",
   "execution_count": null,
   "metadata": {},
   "outputs": [],
   "source": []
  }
 ],
 "metadata": {
  "kernelspec": {
   "display_name": "Python 3",
   "language": "python",
   "name": "python3"
  },
  "language_info": {
   "codemirror_mode": {
    "name": "ipython",
    "version": 3
   },
   "file_extension": ".py",
   "mimetype": "text/x-python",
   "name": "python",
   "nbconvert_exporter": "python",
   "pygments_lexer": "ipython3",
   "version": "3.8.3"
  }
 },
 "nbformat": 4,
 "nbformat_minor": 4
}
